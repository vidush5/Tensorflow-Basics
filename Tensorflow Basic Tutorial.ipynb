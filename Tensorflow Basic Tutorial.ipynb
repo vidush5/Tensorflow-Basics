{
 "cells": [
  {
   "cell_type": "code",
   "execution_count": 1,
   "metadata": {},
   "outputs": [
    {
     "name": "stdout",
     "output_type": "stream",
     "text": [
      "10.0\n"
     ]
    }
   ],
   "source": [
    "import tensorflow as tf\n",
    "c1 = tf.placeholder(tf.float32)\n",
    "c2 = tf.placeholder(tf.float32)\n",
    "x = tf.multiply(c1, c1)\n",
    "y = tf.multiply(c1, c2)\n",
    "\n",
    "final_node = tf.add(x, y)\n",
    "\n",
    "with tf.Session() as sess:\n",
    "    result = final_node.eval({c1 : 2, c2 : 3})\n",
    "    print (result)"
   ]
  },
  {
   "cell_type": "code",
   "execution_count": 6,
   "metadata": {},
   "outputs": [
    {
     "name": "stdout",
     "output_type": "stream",
     "text": [
      "[27. 44. 65.]\n"
     ]
    }
   ],
   "source": [
    "import tensorflow as tf\n",
    "import numpy as np\n",
    "v1 = np.array([3,4,5])\n",
    "v2 = np. array([6,7,8])\n",
    "c1 = tf.placeholder(tf.float32)\n",
    "c2 = tf.placeholder(tf.float32)\n",
    "x = tf.multiply(c1, c1)\n",
    "y = tf.multiply(c1, c2)\n",
    "\n",
    "final_node = tf.add(x, y)\n",
    "\n",
    "with tf.Session() as sess:\n",
    "    result = final_node.eval({c1 : v1, c2 : v2})\n",
    "    print (result)"
   ]
  },
  {
   "cell_type": "code",
   "execution_count": 14,
   "metadata": {},
   "outputs": [
    {
     "name": "stdout",
     "output_type": "stream",
     "text": [
      "[-0.5  0.   0.5  1. ]\n"
     ]
    }
   ],
   "source": [
    "import tensorflow as tf\n",
    "#Computational Graph\n",
    "W = tf.Variable([.5], dtype=tf.float32) #initializing W\n",
    "b = tf.Variable([-1], dtype=tf.float32) #initializing b\n",
    "x = tf.placeholder(tf.float32)#initialing inputs\n",
    "model = W * x + b #model equation\n",
    "\n",
    "#Session calling\n",
    "with tf.Session() as sess: \n",
    "    init = tf.global_variables_initializer()#Global variable initializer\n",
    "    sess.run(init)#running the session\n",
    "    print(sess.run(model, {x: [1, 2, 3, 4]}))#giving inputs"
   ]
  },
  {
   "cell_type": "code",
   "execution_count": 16,
   "metadata": {},
   "outputs": [
    {
     "name": "stdout",
     "output_type": "stream",
     "text": [
      "[-0.5  0.   0.5  1. ]\n",
      "3.5\n"
     ]
    }
   ],
   "source": [
    "import tensorflow as tf\n",
    "#Computational Graph\n",
    "W = tf.Variable([.5], dtype=tf.float32) #initializing W\n",
    "b = tf.Variable([-1], dtype=tf.float32) #initializing b\n",
    "x = tf.placeholder(tf.float32)#initialing inputs\n",
    "y = tf.placeholder(tf.float32)#initializing real output\n",
    "model = W * x + b #model equation\n",
    "deltas = tf.square(model-y)\n",
    "loss = tf.reduce_sum(deltas)\n",
    "\n",
    "#Session calling\n",
    "with tf.Session() as sess: \n",
    "    init = tf.global_variables_initializer()#Global variable initializer\n",
    "    sess.run(init)#running the session\n",
    "    print(sess.run(model, {x: [1, 2, 3, 4]}))#giving inputs\n",
    "    print(sess.run(loss, {x: [1,2,3,4], y: [1,1,1,1] }))#calculating loss"
   ]
  },
  {
   "cell_type": "code",
   "execution_count": null,
   "metadata": {},
   "outputs": [],
   "source": []
  }
 ],
 "metadata": {
  "kernelspec": {
   "display_name": "Python 3",
   "language": "python",
   "name": "python3"
  },
  "language_info": {
   "codemirror_mode": {
    "name": "ipython",
    "version": 3
   },
   "file_extension": ".py",
   "mimetype": "text/x-python",
   "name": "python",
   "nbconvert_exporter": "python",
   "pygments_lexer": "ipython3",
   "version": "3.7.3"
  }
 },
 "nbformat": 4,
 "nbformat_minor": 2
}
